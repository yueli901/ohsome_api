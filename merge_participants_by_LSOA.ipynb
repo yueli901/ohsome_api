{
 "cells": [
  {
   "cell_type": "code",
   "execution_count": 1,
   "id": "4018e9c3",
   "metadata": {},
   "outputs": [],
   "source": [
    "import pandas as pd"
   ]
  },
  {
   "cell_type": "code",
   "execution_count": 2,
   "id": "0d8da536",
   "metadata": {},
   "outputs": [],
   "source": [
    "participants = pd.read_csv('../LSOA_participants_unique.csv', index_col=None)\n"
   ]
  },
  {
   "cell_type": "code",
   "execution_count": 3,
   "id": "3d8f260c",
   "metadata": {},
   "outputs": [
    {
     "data": {
      "text/html": [
       "<div>\n",
       "<style scoped>\n",
       "    .dataframe tbody tr th:only-of-type {\n",
       "        vertical-align: middle;\n",
       "    }\n",
       "\n",
       "    .dataframe tbody tr th {\n",
       "        vertical-align: top;\n",
       "    }\n",
       "\n",
       "    .dataframe thead th {\n",
       "        text-align: right;\n",
       "    }\n",
       "</style>\n",
       "<table border=\"1\" class=\"dataframe\">\n",
       "  <thead>\n",
       "    <tr style=\"text-align: right;\">\n",
       "      <th></th>\n",
       "      <th>Unnamed: 0</th>\n",
       "      <th>LSOA_code</th>\n",
       "      <th>id</th>\n",
       "      <th>area</th>\n",
       "      <th>LSOA11NM</th>\n",
       "      <th>TCITY15CD</th>\n",
       "      <th>TCITY15NM</th>\n",
       "      <th>FID</th>\n",
       "    </tr>\n",
       "  </thead>\n",
       "  <tbody>\n",
       "    <tr>\n",
       "      <th>0</th>\n",
       "      <td>1</td>\n",
       "      <td>E01000001</td>\n",
       "      <td>3930876</td>\n",
       "      <td>London</td>\n",
       "      <td>City of London 001A</td>\n",
       "      <td>J01000055</td>\n",
       "      <td>London</td>\n",
       "      <td>1.0</td>\n",
       "    </tr>\n",
       "    <tr>\n",
       "      <th>1</th>\n",
       "      <td>2</td>\n",
       "      <td>E01000001</td>\n",
       "      <td>4650325</td>\n",
       "      <td>London</td>\n",
       "      <td>City of London 001A</td>\n",
       "      <td>J01000055</td>\n",
       "      <td>London</td>\n",
       "      <td>1.0</td>\n",
       "    </tr>\n",
       "    <tr>\n",
       "      <th>2</th>\n",
       "      <td>3</td>\n",
       "      <td>E01000001</td>\n",
       "      <td>3118216</td>\n",
       "      <td>London</td>\n",
       "      <td>City of London 001A</td>\n",
       "      <td>J01000055</td>\n",
       "      <td>London</td>\n",
       "      <td>1.0</td>\n",
       "    </tr>\n",
       "    <tr>\n",
       "      <th>3</th>\n",
       "      <td>4</td>\n",
       "      <td>E01000001</td>\n",
       "      <td>2126547</td>\n",
       "      <td>London</td>\n",
       "      <td>City of London 001A</td>\n",
       "      <td>J01000055</td>\n",
       "      <td>London</td>\n",
       "      <td>1.0</td>\n",
       "    </tr>\n",
       "    <tr>\n",
       "      <th>4</th>\n",
       "      <td>5</td>\n",
       "      <td>E01000001</td>\n",
       "      <td>5323908</td>\n",
       "      <td>London</td>\n",
       "      <td>City of London 001A</td>\n",
       "      <td>J01000055</td>\n",
       "      <td>London</td>\n",
       "      <td>1.0</td>\n",
       "    </tr>\n",
       "  </tbody>\n",
       "</table>\n",
       "</div>"
      ],
      "text/plain": [
       "   Unnamed: 0  LSOA_code       id    area             LSOA11NM  TCITY15CD  \\\n",
       "0           1  E01000001  3930876  London  City of London 001A  J01000055   \n",
       "1           2  E01000001  4650325  London  City of London 001A  J01000055   \n",
       "2           3  E01000001  3118216  London  City of London 001A  J01000055   \n",
       "3           4  E01000001  2126547  London  City of London 001A  J01000055   \n",
       "4           5  E01000001  5323908  London  City of London 001A  J01000055   \n",
       "\n",
       "  TCITY15NM  FID  \n",
       "0    London  1.0  \n",
       "1    London  1.0  \n",
       "2    London  1.0  \n",
       "3    London  1.0  \n",
       "4    London  1.0  "
      ]
     },
     "execution_count": 3,
     "metadata": {},
     "output_type": "execute_result"
    }
   ],
   "source": [
    "participants.head()"
   ]
  },
  {
   "cell_type": "code",
   "execution_count": 4,
   "id": "75a1ad68",
   "metadata": {},
   "outputs": [],
   "source": [
    "participants.drop('Unnamed: 0', axis=1, inplace=True)"
   ]
  },
  {
   "cell_type": "code",
   "execution_count": 5,
   "id": "810a0658",
   "metadata": {},
   "outputs": [],
   "source": [
    "participants = participants[participants['TCITY15NM']==\"London\"]"
   ]
  },
  {
   "cell_type": "code",
   "execution_count": 6,
   "id": "d7cabf41",
   "metadata": {},
   "outputs": [
    {
     "data": {
      "text/plain": [
       "2936"
      ]
     },
     "execution_count": 6,
     "metadata": {},
     "output_type": "execute_result"
    }
   ],
   "source": [
    "len(participants['LSOA_code'].unique())"
   ]
  },
  {
   "cell_type": "code",
   "execution_count": 8,
   "id": "e6f80959",
   "metadata": {},
   "outputs": [
    {
     "name": "stdout",
     "output_type": "stream",
     "text": [
      "0\n",
      "0\n",
      "0\n",
      "0\n"
     ]
    }
   ],
   "source": [
    "for y in ['2010','2012','2014','2019']:\n",
    "    london_substance = pd.read_csv('london_walking_intersections_'+y+'.csv', index_col=None)\n",
    "    london_substance = london_substance[['LSOA01CD','walking_highway_intersections']]\n",
    "    merged_data = participants.merge(london_substance, left_on='LSOA_code', right_on='LSOA01CD', how='left')\n",
    "    merged_data.to_csv('london_walking_intersections_'+y+'_participants.csv')\n",
    "    print(merged_data[['walking_highway_intersections']].isna().sum().sum())"
   ]
  },
  {
   "cell_type": "code",
   "execution_count": null,
   "id": "54d8dcb1",
   "metadata": {},
   "outputs": [],
   "source": []
  }
 ],
 "metadata": {
  "kernelspec": {
   "display_name": "myenv",
   "language": "python",
   "name": "python3"
  },
  "language_info": {
   "codemirror_mode": {
    "name": "ipython",
    "version": 3
   },
   "file_extension": ".py",
   "mimetype": "text/x-python",
   "name": "python",
   "nbconvert_exporter": "python",
   "pygments_lexer": "ipython3",
   "version": "3.10.8"
  }
 },
 "nbformat": 4,
 "nbformat_minor": 5
}
