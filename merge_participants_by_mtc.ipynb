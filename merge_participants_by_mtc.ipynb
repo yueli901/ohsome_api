{
 "cells": [
  {
   "cell_type": "code",
   "execution_count": 1,
   "id": "4018e9c3",
   "metadata": {},
   "outputs": [],
   "source": [
    "import pandas as pd"
   ]
  },
  {
   "cell_type": "code",
   "execution_count": 2,
   "id": "0d8da536",
   "metadata": {},
   "outputs": [],
   "source": [
    "participants = pd.read_csv('../LSOA_participants_unique_v2.csv', index_col=None)\n"
   ]
  },
  {
   "cell_type": "code",
   "execution_count": 3,
   "id": "3d8f260c",
   "metadata": {},
   "outputs": [
    {
     "data": {
      "text/html": [
       "<div>\n",
       "<style scoped>\n",
       "    .dataframe tbody tr th:only-of-type {\n",
       "        vertical-align: middle;\n",
       "    }\n",
       "\n",
       "    .dataframe tbody tr th {\n",
       "        vertical-align: top;\n",
       "    }\n",
       "\n",
       "    .dataframe thead th {\n",
       "        text-align: right;\n",
       "    }\n",
       "</style>\n",
       "<table border=\"1\" class=\"dataframe\">\n",
       "  <thead>\n",
       "    <tr style=\"text-align: right;\">\n",
       "      <th></th>\n",
       "      <th>Unnamed: 0</th>\n",
       "      <th>LSOA_code</th>\n",
       "      <th>id</th>\n",
       "      <th>area</th>\n",
       "      <th>LSOA11NM</th>\n",
       "      <th>TCITY15CD</th>\n",
       "      <th>TCITY15NM</th>\n",
       "      <th>FID</th>\n",
       "    </tr>\n",
       "  </thead>\n",
       "  <tbody>\n",
       "    <tr>\n",
       "      <th>0</th>\n",
       "      <td>1</td>\n",
       "      <td>E01000001</td>\n",
       "      <td>3930876</td>\n",
       "      <td>London</td>\n",
       "      <td>City of London 001A</td>\n",
       "      <td>J01000055</td>\n",
       "      <td>London</td>\n",
       "      <td>1.0</td>\n",
       "    </tr>\n",
       "    <tr>\n",
       "      <th>1</th>\n",
       "      <td>2</td>\n",
       "      <td>E01000001</td>\n",
       "      <td>4650325</td>\n",
       "      <td>London</td>\n",
       "      <td>City of London 001A</td>\n",
       "      <td>J01000055</td>\n",
       "      <td>London</td>\n",
       "      <td>1.0</td>\n",
       "    </tr>\n",
       "    <tr>\n",
       "      <th>2</th>\n",
       "      <td>3</td>\n",
       "      <td>E01000001</td>\n",
       "      <td>3118216</td>\n",
       "      <td>London</td>\n",
       "      <td>City of London 001A</td>\n",
       "      <td>J01000055</td>\n",
       "      <td>London</td>\n",
       "      <td>1.0</td>\n",
       "    </tr>\n",
       "    <tr>\n",
       "      <th>3</th>\n",
       "      <td>4</td>\n",
       "      <td>E01000001</td>\n",
       "      <td>2126547</td>\n",
       "      <td>London</td>\n",
       "      <td>City of London 001A</td>\n",
       "      <td>J01000055</td>\n",
       "      <td>London</td>\n",
       "      <td>1.0</td>\n",
       "    </tr>\n",
       "    <tr>\n",
       "      <th>4</th>\n",
       "      <td>5</td>\n",
       "      <td>E01000001</td>\n",
       "      <td>5323908</td>\n",
       "      <td>London</td>\n",
       "      <td>City of London 001A</td>\n",
       "      <td>J01000055</td>\n",
       "      <td>London</td>\n",
       "      <td>1.0</td>\n",
       "    </tr>\n",
       "  </tbody>\n",
       "</table>\n",
       "</div>"
      ],
      "text/plain": [
       "   Unnamed: 0  LSOA_code       id    area             LSOA11NM  TCITY15CD  \\\n",
       "0           1  E01000001  3930876  London  City of London 001A  J01000055   \n",
       "1           2  E01000001  4650325  London  City of London 001A  J01000055   \n",
       "2           3  E01000001  3118216  London  City of London 001A  J01000055   \n",
       "3           4  E01000001  2126547  London  City of London 001A  J01000055   \n",
       "4           5  E01000001  5323908  London  City of London 001A  J01000055   \n",
       "\n",
       "  TCITY15NM  FID  \n",
       "0    London  1.0  \n",
       "1    London  1.0  \n",
       "2    London  1.0  \n",
       "3    London  1.0  \n",
       "4    London  1.0  "
      ]
     },
     "execution_count": 3,
     "metadata": {},
     "output_type": "execute_result"
    }
   ],
   "source": [
    "participants.head()"
   ]
  },
  {
   "cell_type": "code",
   "execution_count": 4,
   "id": "75a1ad68",
   "metadata": {},
   "outputs": [],
   "source": [
    "participants.drop('Unnamed: 0', axis=1, inplace=True)"
   ]
  },
  {
   "cell_type": "code",
   "execution_count": 5,
   "id": "d7cabf41",
   "metadata": {},
   "outputs": [
    {
     "data": {
      "text/plain": [
       "137"
      ]
     },
     "execution_count": 5,
     "metadata": {},
     "output_type": "execute_result"
    }
   ],
   "source": [
    "len(participants['TCITY15NM'].unique())"
   ]
  },
  {
   "cell_type": "code",
   "execution_count": 6,
   "id": "d6a4666c",
   "metadata": {},
   "outputs": [
    {
     "data": {
      "text/plain": [
       "(481204, 7)"
      ]
     },
     "execution_count": 6,
     "metadata": {},
     "output_type": "execute_result"
    }
   ],
   "source": [
    "participants.shape"
   ]
  },
  {
   "cell_type": "code",
   "execution_count": 7,
   "id": "e6f80959",
   "metadata": {},
   "outputs": [
    {
     "name": "stdout",
     "output_type": "stream",
     "text": [
      "301148\n",
      "301148\n",
      "301148\n",
      "301148\n"
     ]
    }
   ],
   "source": [
    "for y in ['2010','2012','2014','2019']:\n",
    "    mtc_poi = pd.read_csv('LAD_walking_intersections_'+y+'.csv', index_col=None)\n",
    "    mtc_poi['TCITY15NM'] = mtc_poi['TCITY15NM'].replace('Edinburgh, City of', 'City of Edinburgh')\n",
    "    mtc_poi = mtc_poi[['TCITY15NM','walking_highway_intersections']]\n",
    "    merged_data = participants.merge(mtc_poi, left_on='TCITY15NM', right_on='TCITY15NM', how='left')\n",
    "    merged_data.to_csv('LAD_walking_intersections_'+y+'_participants.csv')\n",
    "    print(merged_data[['walking_highway_intersections']].isna().sum().sum())"
   ]
  },
  {
   "cell_type": "code",
   "execution_count": 8,
   "id": "54d8dcb1",
   "metadata": {},
   "outputs": [
    {
     "data": {
      "text/plain": [
       "301148"
      ]
     },
     "execution_count": 8,
     "metadata": {},
     "output_type": "execute_result"
    }
   ],
   "source": [
    "merged_data['alcohol'].isna().sum()"
   ]
  },
  {
   "cell_type": "code",
   "execution_count": 9,
   "id": "991fe837",
   "metadata": {},
   "outputs": [
    {
     "data": {
      "text/plain": [
       "(481204, 15)"
      ]
     },
     "execution_count": 9,
     "metadata": {},
     "output_type": "execute_result"
    }
   ],
   "source": [
    "merged_data.shape"
   ]
  },
  {
   "cell_type": "code",
   "execution_count": 10,
   "id": "18a48a34",
   "metadata": {},
   "outputs": [
    {
     "data": {
      "text/plain": [
       "180056"
      ]
     },
     "execution_count": 10,
     "metadata": {},
     "output_type": "execute_result"
    }
   ],
   "source": [
    "mtc_use = [\"Cardiff\", \"Swansea\", \"Newport\", \"Birmingham\", \"Bradford\", \"Brighton and Hove\",\n",
    "            \"Bristol\", \"Cambridge\", \"Carlisle\", \"Coventry\", \"Derby\", \"Doncaster\", \"Exeter\",\n",
    "            \"Leeds\", \"Leicester\", \"Lincoln\", \"Liverpool\", \"Manchester\", \"Newcastle upon Tyne\",\n",
    "            \"Norwich\", \"Nottingham\", \"Oxford\",  \"Portsmouth\", \"Preston\", \"Salford\",\"London\",\n",
    "            \"Sheffield\", \"Southampton\", \"Southend-on-Sea\", \"Stoke-on-Trent\", \"Sunderland\", \"York\"]\n",
    "mtc_use_scot = [\"Glasgow City\", \"City of Edinburgh\"]\n",
    "merged_data['TCITY15NM'].isin(mtc_use+mtc_use_scot).sum()"
   ]
  },
  {
   "cell_type": "code",
   "execution_count": 21,
   "id": "a0383752",
   "metadata": {},
   "outputs": [
    {
     "name": "stdout",
     "output_type": "stream",
     "text": [
      "7871\n",
      "1276\n",
      "1594\n",
      "12245\n",
      "3570\n",
      "26\n",
      "16908\n",
      "3\n",
      "6\n",
      "8\n",
      "2519\n",
      "302\n",
      "3\n",
      "9318\n",
      "5\n",
      "5\n",
      "8434\n",
      "5441\n",
      "6349\n",
      "3\n",
      "4509\n",
      "3696\n",
      "1\n",
      "3\n",
      "662\n",
      "54004\n",
      "13271\n",
      "1\n",
      "5\n",
      "6997\n",
      "2758\n",
      "28\n",
      "6805\n",
      "11430\n"
     ]
    }
   ],
   "source": [
    "# Initialize an empty DataFrame to store results\n",
    "count = []\n",
    "for c in mtc_use+mtc_use_scot:\n",
    "    count.append(merged_data[merged_data['TCITY15NM']==c].shape[0])\n",
    "    print(merged_data[merged_data['TCITY15NM']==c].shape[0])"
   ]
  },
  {
   "cell_type": "code",
   "execution_count": null,
   "id": "de6dcaa1",
   "metadata": {},
   "outputs": [],
   "source": []
  }
 ],
 "metadata": {
  "kernelspec": {
   "display_name": "myenv",
   "language": "python",
   "name": "python3"
  },
  "language_info": {
   "codemirror_mode": {
    "name": "ipython",
    "version": 3
   },
   "file_extension": ".py",
   "mimetype": "text/x-python",
   "name": "python",
   "nbconvert_exporter": "python",
   "pygments_lexer": "ipython3",
   "version": "3.10.8"
  }
 },
 "nbformat": 4,
 "nbformat_minor": 5
}
